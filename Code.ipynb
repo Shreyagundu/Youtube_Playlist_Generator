{
 "cells": [
  {
   "cell_type": "code",
   "execution_count": 1,
   "metadata": {},
   "outputs": [],
   "source": [
    "from apiclient.discovery import build\n",
    "import argparse\n",
    "import csv\n",
    "import time\n",
    "import pandas as pd\n",
    "import dateutil.parser\n",
    "import isodate\n",
    "from datetime import datetime \n",
    "import pytz \n"
   ]
  },
  {
   "cell_type": "code",
   "execution_count": null,
   "metadata": {},
   "outputs": [],
   "source": [
    "DEVELOPER_KEY = #INSERT YOUR KEY\n",
    "YOUTUBE_API_SERVICE_NAME = \"youtube\"\n",
    "YOUTUBE_API_VERSION = \"v3\""
   ]
  },
  {
   "cell_type": "code",
   "execution_count": null,
   "metadata": {},
   "outputs": [],
   "source": [
    "youtube = build(YOUTUBE_API_SERVICE_NAME, YOUTUBE_API_VERSION, developerKey=DEVELOPER_KEY)\n",
    "# Call the search.list method to retrieve results matching the specified\n",
    "# query term\n",
    "query = input(\"Enter search query: \")\n",
    "\n",
    "IST = pytz.timezone('Asia/Kolkata')   \n",
    "datetime_ist = datetime.now(IST) \n",
    "TimeQueried =  datetime_ist.strftime('%d/%m/%Y %H:%M:%S ')\n",
    "#print(TimeQueried)\n",
    "\n",
    "\n",
    "search_response = []\n",
    "response_page = youtube.search().list(q=query, part=\"id,snippet\", type=\"video\", maxResults=100).execute()\n",
    "search_response.append(response_page)\n",
    "nextPageToken = response_page['nextPageToken']\n",
    "\n",
    "\n",
    "for _ in range(4):\n",
    "    response_page = youtube.search().list(q=query, part=\"id,snippet\", pageToken=nextPageToken, type=\"video\", maxResults=100).execute()\n",
    "    search_response.append(response_page)\n",
    "    if (\"nextPageToken\" in response_page):\n",
    "        nextPageToken = response_page['nextPageToken']\n",
    "        continue\n",
    "    else:\n",
    "        break"
   ]
  },
  {
   "cell_type": "code",
   "execution_count": null,
   "metadata": {},
   "outputs": [],
   "source": [
    "search_response"
   ]
  },
  {
   "cell_type": "code",
   "execution_count": null,
   "metadata": {},
   "outputs": [],
   "source": [
    "id_list = []\n",
    "for v in search_response:\n",
    "    for v_item in v['items']:\n",
    "        id_list.append(v_item['id']['videoId'])"
   ]
  },
  {
   "cell_type": "code",
   "execution_count": null,
   "metadata": {},
   "outputs": [],
   "source": [
    "video_response = []\n",
    "for i in id_list:\n",
    "    videos = youtube.videos().list(id=i, part=\"id,snippet,statistics,contentDetails\").execute()\n",
    "    print(videos)\n",
    "    video_response.append(videos['items'][0])"
   ]
  },
  {
   "cell_type": "code",
   "execution_count": null,
   "metadata": {},
   "outputs": [],
   "source": [
    "video_response"
   ]
  },
  {
   "cell_type": "code",
   "execution_count": null,
   "metadata": {},
   "outputs": [],
   "source": [
    "v_list = []\n",
    "for v in video_response:\n",
    "\n",
    "    duration = v['contentDetails']['duration']  \n",
    "    dur=isodate.parse_duration(duration)\n",
    "    sec = dur.total_seconds()\n",
    "    stats = v['statistics']\n",
    "    viewCount = stats.get('viewCount')\n",
    "    likeCount = stats.get('likeCount')\n",
    "    dislikeCount = stats.get('dislikeCount')\n",
    "    favoriteCount = stats.get('favoriteCount')\n",
    "    commentCount = stats.get('commentCount')\n",
    "    \n",
    "    v_dict = {'Topic': query, 'Time_Queried': TimeQueried , 'Video_Title': v['snippet']['title'], 'videoId': v['id'], \"Published_At\": v['snippet']['publishedAt'], \"duration(sec)\": sec , \"viewCount\": viewCount , \"likeCount\": likeCount , \"dislikeCount\": dislikeCount, \"favoriteCount\": favoriteCount, \"commentCount\":commentCount}\n",
    "    v_list.append(v_dict)\n",
    "    #print(commentCount)"
   ]
  },
  {
   "cell_type": "code",
   "execution_count": null,
   "metadata": {},
   "outputs": [],
   "source": [
    "import csv\n",
    "header = ['Topic', 'Time_Queried', 'Video_Title', 'videoId', 'Published_At', 'duration(sec)', 'viewCount', 'likeCount', 'dislikeCount', 'favoriteCount','commentCount']\n",
    "file = 'Data.csv'\n",
    "\n",
    "try:\n",
    "    with open(file, 'a') as csvfile:\n",
    "        writer = csv.DictWriter(csvfile, fieldnames=header)\n",
    "        writer.writeheader()\n",
    "        for data in v_list:\n",
    "            writer.writerow(data)\n",
    "except IOError:\n",
    "    print('IO Error')"
   ]
  },
  {
   "cell_type": "code",
   "execution_count": null,
   "metadata": {},
   "outputs": [],
   "source": [
    "df = pd.read_csv(\"Data.csv\", header=None)\n",
    "print(df)"
   ]
  },
  {
   "cell_type": "code",
   "execution_count": null,
   "metadata": {},
   "outputs": [],
   "source": []
  },
  {
   "cell_type": "code",
   "execution_count": null,
   "metadata": {},
   "outputs": [],
   "source": [
    "####################### MERGING ######################"
   ]
  },
  {
   "cell_type": "code",
   "execution_count": null,
   "metadata": {},
   "outputs": [],
   "source": [
    "import pandas as pd\n",
    "from scipy import stats \n",
    "from sklearn import preprocessing\n",
    "from math import sqrt\n",
    "\n",
    "df1 = pd.read_csv (r'Day1.csv')\n",
    "df2 = pd.read_csv (r'Day2.csv')\n",
    "df3 = pd.read_csv (r'Day3.csv')\n",
    "df4 = pd.read_csv (r'Day4.csv')\n",
    "#print(df1)"
   ]
  },
  {
   "cell_type": "code",
   "execution_count": null,
   "metadata": {},
   "outputs": [],
   "source": [
    "############ Ensuring that there are no 'nan' in the data frame which might cause a problem ############# \n",
    "\n",
    "df1[\"likeCount\"] = df1[\"likeCount\"].fillna(0)\n",
    "df2[\"likeCount\"] = df2[\"likeCount\"].fillna(0)\n",
    "df3[\"likeCount\"] = df3[\"likeCount\"].fillna(0)\n",
    "df4[\"likeCount\"] = df4[\"likeCount\"].fillna(0)\n",
    "\n",
    "\n",
    "df1[\"dislikeCount\"] = df1[\"dislikeCount\"].fillna(0)\n",
    "df2[\"dislikeCount\"] = df2[\"dislikeCount\"].fillna(0)\n",
    "df3[\"dislikeCount\"] = df3[\"dislikeCount\"].fillna(0)\n",
    "df4[\"dislikeCount\"] = df4[\"dislikeCount\"].fillna(0)\n",
    "\n",
    "\n",
    "\n",
    "#print(df1)"
   ]
  },
  {
   "cell_type": "code",
   "execution_count": null,
   "metadata": {},
   "outputs": [],
   "source": [
    "M=pd.merge(df1, df4, how='inner',on=['videoId','Video_Title','PublishedAt','duration(sec)','Topic'])\n",
    "\n",
    "M['viewCount_diff']=M['viewCount_y']-M['viewCount_x']\n",
    "M['likeCount_diff']=M['likeCount_y']-M['likeCount_x']\n",
    "M['dislikeCount_diff']=M['dislikeCount_y']-M['dislikeCount_x']\n",
    "M['commentCount_diff']=M['commentCount_y']-M['commentCount_x']\n",
    "\n",
    "#print(M)"
   ]
  },
  {
   "cell_type": "code",
   "execution_count": null,
   "metadata": {},
   "outputs": [],
   "source": [
    "grouped = M.groupby('Topic')\n",
    "Topic1 = grouped.get_group(\"DATA SCIENCE\")\n",
    "Topic2 = grouped.get_group(\"COMPUTER NETWORKS\")\n",
    "Topic3 = grouped.get_group(\"WIRELESS COMMUNICATION\")\n",
    "#print(Topic3)"
   ]
  },
  {
   "cell_type": "code",
   "execution_count": null,
   "metadata": {},
   "outputs": [],
   "source": [
    "################ NORMALISING LIKE_DISLIKE_DIFF AND VIEWCOUNT ########################\n",
    "\n",
    "Topic1['like_dislike_diff'] = Topic1['likeCount_diff'] -Topic1['dislikeCount_diff']\n",
    "s = sum(Topic1['viewCount_diff'])\n",
    "Topic1['viewCount_diff_Norm'] = Topic1['viewCount_diff']/s\n",
    "s = sum(Topic1['like_dislike_diff'])\n",
    "Topic1['like_dislike_diff_Norm'] = Topic1['like_dislike_diff']/s\n",
    "\n",
    "#print(Topic1)"
   ]
  },
  {
   "cell_type": "code",
   "execution_count": null,
   "metadata": {},
   "outputs": [],
   "source": [
    "Topic2['like_dislike_diff'] = Topic2['likeCount_diff'] -Topic2['dislikeCount_diff']\n",
    "s = sum(Topic2['viewCount_diff'])\n",
    "Topic2['viewCount_diff_Norm'] = Topic2['viewCount_diff']/s\n",
    "s = sum(Topic2['like_dislike_diff'])\n",
    "Topic2['like_dislike_diff_Norm'] = Topic2['like_dislike_diff']/s\n",
    "\n",
    "#print(Topic2)"
   ]
  },
  {
   "cell_type": "code",
   "execution_count": null,
   "metadata": {},
   "outputs": [],
   "source": [
    "Topic3['like_dislike_diff'] = Topic3['likeCount_diff'] -Topic3['dislikeCount_diff']\n",
    "s = max(Topic3['viewCount_diff'])\n",
    "Topic3['viewCount_diff_Norm'] = Topic3['viewCount_diff']/s\n",
    "s = max(Topic3['like_dislike_diff'])\n",
    "Topic3['like_dislike_diff_Norm'] = Topic3['like_dislike_diff']/s\n",
    "\n",
    "# print(Topic3)"
   ]
  },
  {
   "cell_type": "code",
   "execution_count": null,
   "metadata": {},
   "outputs": [],
   "source": []
  },
  {
   "cell_type": "code",
   "execution_count": null,
   "metadata": {},
   "outputs": [],
   "source": [
    "########################### SCORING ###############################"
   ]
  },
  {
   "cell_type": "code",
   "execution_count": null,
   "metadata": {},
   "outputs": [],
   "source": [
    "#weight for viewCount_diff_Norm \n",
    "w1= 11\n",
    "#weight for like_dislike_diff_norm \n",
    "w2= 5"
   ]
  },
  {
   "cell_type": "code",
   "execution_count": null,
   "metadata": {},
   "outputs": [],
   "source": [
    "def score(viewCount_diff_Norm ,like_dislike_diff_Norm ):\n",
    "    scr = viewCount_diff_Norm * w1 +like_dislike_diff_Norm * w2\n",
    "    return scr\n"
   ]
  },
  {
   "cell_type": "code",
   "execution_count": null,
   "metadata": {},
   "outputs": [],
   "source": [
    "##FOR TOPIC1##\n",
    "l1=len(Topic1)\n",
    "Topic1['score']=0.0\n",
    "for i in range (l1):\n",
    "    Topic1['score'][i]= score(Topic1['viewCount_diff_Norm'][i],Topic1['like_dislike_diff_Norm'][i]) \n",
    "    #calling the score function and calculating the score\n",
    "\n",
    "    \n",
    "##FOR TOPIC2##\n",
    "l2=len(Topic2)\n",
    "Topic2['score']=0.0\n",
    "for i in range (l2):\n",
    "    i = i + l1\n",
    "    Topic2['score'][i]= score(Topic2['viewCount_diff_Norm'][i],Topic2['like_dislike_diff_Norm'][i])\n",
    "    #calling the score function and calculating the score\n",
    "\n",
    "\n",
    "##FOR TOPIC3##\n",
    "l3=len(Topic3)\n",
    "Topic3['score']=0.0\n",
    "for i in range (l3):\n",
    "    i = i + l1+ l2\n",
    "    Topic3['score'][i]= score(Topic3['viewCount_diff_Norm'][i],Topic3['like_dislike_diff_Norm'][i])\n",
    "    #calling the score function and calculating the score\n",
    "\n"
   ]
  },
  {
   "cell_type": "code",
   "execution_count": null,
   "metadata": {},
   "outputs": [],
   "source": [
    "Topic1 = Topic1.sort_values(\"score\",ascending = False) #sorting them in descending order on the basis of their scores\n",
    "Topic2 = Topic2.sort_values(\"score\",ascending = False) #sorting them in descending order on the basis of their scores\n",
    "Topic3 = Topic3.sort_values(\"score\",ascending = False) #sorting them in descending order on the basis of their scores\n",
    "print(Topic3)"
   ]
  },
  {
   "cell_type": "code",
   "execution_count": null,
   "metadata": {},
   "outputs": [],
   "source": []
  },
  {
   "cell_type": "code",
   "execution_count": null,
   "metadata": {},
   "outputs": [],
   "source": [
    "##################### MAKING PLAYLIST FOR TOPIC1 ####################"
   ]
  },
  {
   "cell_type": "code",
   "execution_count": null,
   "metadata": {},
   "outputs": [],
   "source": [
    "dur=0\n",
    "num = 0\n",
    "videotitle1=[]\n",
    "duration1=[]\n",
    "for i in Topic1.index:\n",
    "    if (dur + Topic1['duration(sec)'][i] <= 54000):\n",
    "            dur = dur + Topic1['duration(sec)'][i]\n",
    "            num = num +1\n",
    "            videotitle1.append(Topic1['Video_Title'][i])\n",
    "            duration1.append(Topic1['duration(sec)'][i])\n",
    "            print(num)\n",
    "            print(\"TOPIC --> \" + Topic1['Topic'][i]+\" ; \"+\"VIDEO_TITLE --> \" + Topic1['Video_Title'][i]+\" ; \"+\n",
    "                  \"VIDEO_ID --> \" + Topic1['videoId'][i]+\" ; \"+ \"PUBLISHED_AT --> \"+ Topic1['PublishedAt'][i])\n",
    "            print(\"DURATION_IN_SEC --> \"+ str(Topic1['duration(sec)'][i]))\n",
    "            print('\\n')"
   ]
  },
  {
   "cell_type": "code",
   "execution_count": null,
   "metadata": {},
   "outputs": [],
   "source": []
  },
  {
   "cell_type": "code",
   "execution_count": null,
   "metadata": {},
   "outputs": [],
   "source": [
    "###################### MAKING PLAYLIST FOR TOPIC2 #####################"
   ]
  },
  {
   "cell_type": "code",
   "execution_count": null,
   "metadata": {},
   "outputs": [],
   "source": [
    "dur=0\n",
    "num = 0\n",
    "videotitle2=[]\n",
    "duration2=[]\n",
    "for i in Topic2.index:\n",
    "    if (dur + Topic2['duration(sec)'][i] <= 54000):\n",
    "            dur = dur + Topic2['duration(sec)'][i]\n",
    "            num = num +1\n",
    "            videotitle2.append(Topic2['Video_Title'][i])\n",
    "            duration2.append(Topic2['duration(sec)'][i])\n",
    "            print(num)\n",
    "            print(\"TOPIC --> \" + Topic2['Topic'][i]+\" ; \"+\"VIDEO_TITLE --> \" + Topic2['Video_Title'][i]+\" ; \"+\n",
    "                  \"VIDEO_ID --> \" + Topic2['videoId'][i]+\" ; \"+ \"PUBLISHED_AT --> \"+ Topic2['PublishedAt'][i])\n",
    "            print(\"DURATION_IN_SEC --> \"+ str(Topic2['duration(sec)'][i]))\n",
    "            print('\\n')"
   ]
  },
  {
   "cell_type": "code",
   "execution_count": null,
   "metadata": {},
   "outputs": [],
   "source": []
  },
  {
   "cell_type": "code",
   "execution_count": null,
   "metadata": {},
   "outputs": [],
   "source": [
    "###################### MAKING PLAYLIST FOR TOPIC3 ############################"
   ]
  },
  {
   "cell_type": "code",
   "execution_count": null,
   "metadata": {},
   "outputs": [],
   "source": [
    "dur=0\n",
    "num = 0\n",
    "#videoid = []\n",
    "videotitle3=[]\n",
    "duration3=[]\n",
    "# likecount=[]\n",
    "for i in Topic3.index:\n",
    "    if (dur + Topic3['duration(sec)'][i] <= 54000):\n",
    "            dur = dur + Topic3['duration(sec)'][i]\n",
    "            num = num +1\n",
    "            #videoid.append(Topic3['videoId'][i])\n",
    "            #likecount.append(Topic3['likeCount_diff'])\n",
    "            videotitle3.append(Topic3['Video_Title'][i])\n",
    "            duration3.append(Topic3['duration(sec)'][i])\n",
    "            print(num)\n",
    "            print(\"TOPIC --> \" + Topic3['Topic'][i]+\" ; \"+\"VIDEO_TITLE --> \" + Topic3['Video_Title'][i]+\" ; \"+\n",
    "                  \"VIDEO_ID --> \" + Topic3['videoId'][i]+\" ; \"+ \"PUBLISHED_AT --> \"+ Topic3['PublishedAt'][i])\n",
    "            print(\"DURATION_IN_SEC --> \"+ str(Topic3['duration(sec)'][i]))\n",
    "            print('\\n')"
   ]
  },
  {
   "cell_type": "code",
   "execution_count": null,
   "metadata": {},
   "outputs": [],
   "source": [
    " "
   ]
  },
  {
   "cell_type": "code",
   "execution_count": null,
   "metadata": {},
   "outputs": [],
   "source": [
    "##################### VISUALIZATION ###########"
   ]
  },
  {
   "cell_type": "code",
   "execution_count": null,
   "metadata": {},
   "outputs": [],
   "source": [
    "import random\n",
    "import numpy\n",
    "import matplotlib.pyplot as plt \n"
   ]
  },
  {
   "cell_type": "code",
   "execution_count": null,
   "metadata": {},
   "outputs": [],
   "source": [
    "#GRAPH BETWEEN THE  TITLE'S OF PLAYLIST OF TOPIC2 AND THEIR DURATION\n",
    "x=videotitle2\n",
    "y=duration2\n",
    "plt.plot(x,y)\n",
    "plt.xlabel(\"videoTitle\")\n",
    "plt.ylabel(\"Duration(sec)\")\n",
    "plt.title(\"Topic2_videotitle vs duration(sec)\")\n",
    "pyplot.show()"
   ]
  },
  {
   "cell_type": "code",
   "execution_count": null,
   "metadata": {},
   "outputs": [],
   "source": [
    "#GRAPH BETWEEN THE  TITLE'S OF PLAYLIST OF TOPIC3 AND THEIR DURATION\n",
    "x=videotitle3\n",
    "y=duration3\n",
    "plt.plot(x,y)\n",
    "plt.xlabel(\"videoTitle\")\n",
    "plt.ylabel(\"Duration(sec)\")\n",
    "plt.title(\"Topic3_videotitle vs duration(sec)\")\n",
    "\n",
    "pyplot.show()"
   ]
  },
  {
   "cell_type": "code",
   "execution_count": null,
   "metadata": {},
   "outputs": [],
   "source": []
  },
  {
   "cell_type": "code",
   "execution_count": null,
   "metadata": {},
   "outputs": [],
   "source": []
  },
  {
   "cell_type": "code",
   "execution_count": null,
   "metadata": {},
   "outputs": [],
   "source": []
  },
  {
   "cell_type": "code",
   "execution_count": null,
   "metadata": {},
   "outputs": [],
   "source": []
  },
  {
   "cell_type": "code",
   "execution_count": null,
   "metadata": {},
   "outputs": [],
   "source": []
  },
  {
   "cell_type": "code",
   "execution_count": null,
   "metadata": {},
   "outputs": [],
   "source": []
  },
  {
   "cell_type": "code",
   "execution_count": null,
   "metadata": {},
   "outputs": [],
   "source": []
  },
  {
   "cell_type": "code",
   "execution_count": null,
   "metadata": {},
   "outputs": [],
   "source": []
  },
  {
   "cell_type": "code",
   "execution_count": null,
   "metadata": {},
   "outputs": [],
   "source": []
  },
  {
   "cell_type": "code",
   "execution_count": null,
   "metadata": {},
   "outputs": [],
   "source": []
  },
  {
   "cell_type": "code",
   "execution_count": null,
   "metadata": {},
   "outputs": [],
   "source": []
  },
  {
   "cell_type": "code",
   "execution_count": null,
   "metadata": {},
   "outputs": [],
   "source": []
  },
  {
   "cell_type": "code",
   "execution_count": null,
   "metadata": {},
   "outputs": [],
   "source": []
  },
  {
   "cell_type": "code",
   "execution_count": null,
   "metadata": {},
   "outputs": [],
   "source": []
  },
  {
   "cell_type": "code",
   "execution_count": null,
   "metadata": {},
   "outputs": [],
   "source": []
  },
  {
   "cell_type": "code",
   "execution_count": null,
   "metadata": {},
   "outputs": [],
   "source": []
  }
 ],
 "metadata": {
  "kernelspec": {
   "display_name": "Python 3",
   "language": "python",
   "name": "python3"
  },
  "language_info": {
   "codemirror_mode": {
    "name": "ipython",
    "version": 3
   },
   "file_extension": ".py",
   "mimetype": "text/x-python",
   "name": "python",
   "nbconvert_exporter": "python",
   "pygments_lexer": "ipython3",
   "version": "3.8.2"
  }
 },
 "nbformat": 4,
 "nbformat_minor": 4
}
